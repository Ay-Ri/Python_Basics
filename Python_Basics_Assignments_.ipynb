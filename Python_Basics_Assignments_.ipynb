{
  "nbformat": 4,
  "nbformat_minor": 0,
  "metadata": {
    "colab": {
      "provenance": []
    },
    "kernelspec": {
      "name": "python3",
      "display_name": "Python 3"
    },
    "language_info": {
      "name": "python"
    }
  },
  "cells": [
    {
      "cell_type": "markdown",
      "source": [
        "# 1. **What is Python, and why is it popular?**\n",
        "Ans: Python is a high-level, interpreted programming language known for its readability, simplicity, and versatility. It was created by Guido van Rossum and first released in 1991.\n",
        "                       The main reasons for its popularity is :\n",
        "   a. Simple and Readable Syntax\n",
        "   b. Versatile Use Case   \n",
        "   c. Huge Community & Ecosystem                 \n"
      ],
      "metadata": {
        "id": "QAoNKiH7Bl6m"
      }
    },
    {
      "cell_type": "markdown",
      "source": [
        "# 2. **What is an interpreter in Python?**\n",
        " Ans: An interpreter is a program that reads and executes Python code line by line, rather than compiling the whole program at once like a compiler.\n",
        "                               When you run a Python script, the Python\n",
        " interpreter translates your code into machine code one line at a time and runs it immediately.\n",
        "\n",
        "\n",
        "                               "
      ],
      "metadata": {
        "id": "2X0FsV2pCW6F"
      }
    },
    {
      "cell_type": "markdown",
      "source": [
        "# **3.  What are pre-defined keywords in Python?**\n",
        "    Ans: Pre-defined keywords (also called reserved words) are special words built into the Python language that have specific meanings and cannot be used as variable names, function names, or identifiers."
      ],
      "metadata": {
        "id": "w-qkbD7IFX0Q"
      }
    },
    {
      "cell_type": "markdown",
      "source": [
        "# **4. Can keywords be used as variable names ?**\n",
        "    Ans: No, we cannot use keywords as variable names in Python. Because keywords have special meaning in Python. Using them as variable names would confuse the interpreter and cause a SyntaxError."
      ],
      "metadata": {
        "id": "EZEVkDr6F2Tl"
      }
    },
    {
      "cell_type": "markdown",
      "source": [
        "# **5. What is mutability in Python ?**\n",
        "   Ans: Mutability refers to whether an object in Python can be changed after it is created. lists, dictionaries are the examples of of mutable objects in python."
      ],
      "metadata": {
        "id": "I-mPaD_iFSag"
      }
    },
    {
      "cell_type": "markdown",
      "source": [
        "# **6.  Why are lists mutable, but tuples are immutable ?**\n",
        "    Ans : Lists are designed to be flexible and dynamic. We can do add opration, remove operation, change operations. On the other hand Tuples are made to be fixed and unchangeable once created. They are often used when we want to protect data from being modified, we need hashable objects or we want safer, faster and memory efficient alternatives to lists."
      ],
      "metadata": {
        "id": "fpu4nMa9Hg7F"
      }
    },
    {
      "cell_type": "markdown",
      "source": [
        "7.  What is the difference between “==” and “is” operators in Python ?\n",
        "\n",
        "  Ans: == is also known as equality operator. It checks if two values are equal or compares the content. On the other hand “is” is a identity operator it checks if two variables refer to the exact same object in memory."
      ],
      "metadata": {
        "id": "q1fnuezCIket"
      }
    },
    {
      "cell_type": "markdown",
      "source": [
        "8. What are logical operators in Python ?\n",
        "\n",
        " Ans: Logical operators are used to combine conditional statements or perform logic-based comparisons. They are very useful when we want to check multiple conditions at once.\n",
        "\n"
      ],
      "metadata": {
        "id": "F6ZUWCMOMmX8"
      }
    },
    {
      "cell_type": "markdown",
      "source": [
        "9.  What is type casting in Python ?\n",
        "\n",
        "Ans: Type casting means converting a variable from one data type to another — like from a string to an integer, or an integer to a float."
      ],
      "metadata": {
        "id": "YnWZe14QOpGv"
      }
    },
    {
      "cell_type": "markdown",
      "source": [
        "10. What is the difference between implicit and explicit type casting ?\n",
        "\n",
        "Ans: In implicit typecasting Python automatically converts one data type to another behind the scenes, without you writing any extra code on the other hand in explicit typecasting we manually convert one data type to another using casting functions like int(), float(), str(), etc."
      ],
      "metadata": {
        "id": "Gt16I5ABO4ZG"
      }
    },
    {
      "cell_type": "markdown",
      "source": [
        "11. What is the purpose of conditional statements in Python ?\n",
        "\n",
        " Ans: Conditional statements are used to make decisions in your code, they let our program do different things based on different conditions. It helps respond to input, making choices, control the flow of execution."
      ],
      "metadata": {
        "id": "EsVtB8iGPWku"
      }
    },
    {
      "cell_type": "markdown",
      "source": [
        "12.  How does the elif statement work ?\n",
        "\n",
        "Ans: elif stands for \"else if\". It checks multiple conditions, one after another, only if the previous if or elif conditions were False."
      ],
      "metadata": {
        "id": "74RtMYZTP-r1"
      }
    },
    {
      "cell_type": "markdown",
      "source": [
        "13. What is the difference between for and while loops ?\n",
        "\n",
        "Ans: for loop use with a known range or sequence, we used for loop when we want to repeat something a specific number of times or loop through a collection. On the other hand while loop is based on a condition when we want to repeat something until a condition becomes false.  "
      ],
      "metadata": {
        "id": "Jut0gnLmUqlh"
      }
    },
    {
      "cell_type": "markdown",
      "source": [
        "14. Describe a scenario where a while loop is more suitable than a for loop ?\n",
        "\n",
        "  Ans: While loop is better because we can not predict how many iteration the user will take or we wnat to keep looping as long as the condition is true. Where a for loop needs a known range which doesnot fit here."
      ],
      "metadata": {
        "id": "vYoz1PRPVpNC"
      }
    },
    {
      "cell_type": "markdown",
      "source": [
        "# **PRACTICAL QUESTIONS**"
      ],
      "metadata": {
        "id": "PYX4dvdeY4oB"
      }
    },
    {
      "cell_type": "code",
      "execution_count": 1,
      "metadata": {
        "id": "WPqWfII5Bj4w",
        "colab": {
          "base_uri": "https://localhost:8080/"
        },
        "outputId": "ad4c4800-cedb-4f47-fef1-08f94a7d2826"
      },
      "outputs": [
        {
          "output_type": "stream",
          "name": "stdout",
          "text": [
            "Hello, World!\n"
          ]
        }
      ],
      "source": [
        "# 1. Write a Python program to print \"Hello, World!\"\n",
        "\n",
        "print(\"Hello, World!\")"
      ]
    },
    {
      "cell_type": "code",
      "source": [
        "# 2.Write a Python program that displays your name and age\n",
        "\n",
        "name=\"Ayush\"\n",
        "age=23\n",
        "print(f\"My name is {name} and my age is {age}.\")"
      ],
      "metadata": {
        "colab": {
          "base_uri": "https://localhost:8080/"
        },
        "id": "APYSQhdEZqu4",
        "outputId": "666c6d1d-6917-47e3-a3ad-b4ed24027164"
      },
      "execution_count": 3,
      "outputs": [
        {
          "output_type": "stream",
          "name": "stdout",
          "text": [
            "My name is Ayush and my age is 23.\n"
          ]
        }
      ]
    },
    {
      "cell_type": "code",
      "source": [
        "# 3. Write code to print all the pre-defined keywords in Python using the keyword library\n",
        "\n",
        "import keyword\n",
        "keywords = keyword.kwlist\n",
        "\n",
        "print(\"Python Keywords:\")\n",
        "print(\"--------------------\")\n",
        "\n",
        "for kw in keywords:\n",
        "    print(kw)\n",
        "\n",
        "print(f\"\\nTotal keywords: {len(keywords)}\")\n"
      ],
      "metadata": {
        "colab": {
          "base_uri": "https://localhost:8080/"
        },
        "id": "SZprjMEIaHPF",
        "outputId": "a3799620-f1f9-4b19-9f42-ed18b19c068c"
      },
      "execution_count": 4,
      "outputs": [
        {
          "output_type": "stream",
          "name": "stdout",
          "text": [
            "Python Keywords:\n",
            "--------------------\n",
            "False\n",
            "None\n",
            "True\n",
            "and\n",
            "as\n",
            "assert\n",
            "async\n",
            "await\n",
            "break\n",
            "class\n",
            "continue\n",
            "def\n",
            "del\n",
            "elif\n",
            "else\n",
            "except\n",
            "finally\n",
            "for\n",
            "from\n",
            "global\n",
            "if\n",
            "import\n",
            "in\n",
            "is\n",
            "lambda\n",
            "nonlocal\n",
            "not\n",
            "or\n",
            "pass\n",
            "raise\n",
            "return\n",
            "try\n",
            "while\n",
            "with\n",
            "yield\n",
            "\n",
            "Total keywords: 35\n"
          ]
        }
      ]
    },
    {
      "cell_type": "code",
      "source": [
        "# 4. Write a program that checks if a given word is a Python keyword.\n",
        "\n",
        "import keyword\n",
        "\n",
        "word = input(\"Enter a word: \")\n",
        "\n",
        "if keyword.iskeyword(word):\n",
        "    print(f\"'{word}' is a Python keyword.\")\n",
        "else:\n",
        "    print(f\"'{word}' is not a Python keyword.\")\n",
        ""
      ],
      "metadata": {
        "colab": {
          "base_uri": "https://localhost:8080/"
        },
        "id": "nmyQqTPFal05",
        "outputId": "306c7c39-e1a5-46f3-8a6a-031d705e0c08"
      },
      "execution_count": 8,
      "outputs": [
        {
          "output_type": "stream",
          "name": "stdout",
          "text": [
            "Enter a word: am\n",
            "'am' is not a Python keyword.\n"
          ]
        }
      ]
    },
    {
      "cell_type": "code",
      "source": [
        "# 5.  Create a list and tuple in Python, and demonstrate how attempting to change an element works differently for each.\n",
        "\n",
        "my_list = [10, 20, 30]\n",
        "my_tuple = (10, 20, 30)\n",
        "\n",
        "print(\"Original list:\", my_list)\n",
        "my_list[1] = 200\n",
        "print(\"Modified list:\", my_list)\n",
        "\n",
        "print(\"\\nOriginal tuple:\", my_tuple)\n",
        "try:\n",
        "    my_tuple[1] = 200\n",
        "except TypeError as e:\n",
        "    print(\"Error while modifying tuple:\", e)\n"
      ],
      "metadata": {
        "colab": {
          "base_uri": "https://localhost:8080/"
        },
        "id": "jBueDWL_cxJG",
        "outputId": "e51da34a-2e5c-4415-9357-c0f7f716086b"
      },
      "execution_count": 12,
      "outputs": [
        {
          "output_type": "stream",
          "name": "stdout",
          "text": [
            "Original list: [10, 20, 30]\n",
            "Modified list: [10, 200, 30]\n",
            "\n",
            "Original tuple: (10, 20, 30)\n",
            "Error while modifying tuple: 'tuple' object does not support item assignment\n"
          ]
        }
      ]
    },
    {
      "cell_type": "code",
      "source": [
        "# 6. Write a function to demonstrate the behavior of mutable and immutable arguments.\n",
        "\n",
        "def modify_arguments(num, my_list):\n",
        "    print(\"Inside function before change:\")\n",
        "    print(\"num =\", num)\n",
        "    print(\"my_list =\", my_list)\n",
        "\n",
        "    # Try to modify both\n",
        "    num += 10\n",
        "    my_list.append(100)\n",
        "\n",
        "    print(\"Inside function after change:\")\n",
        "    print(\"num =\", num)\n",
        "    print(\"my_list =\", my_list)\n",
        "\n",
        "\n",
        "# Immutable (int) and mutable (list)\n",
        "x = 50\n",
        "y = [10, 20, 30]\n",
        "\n",
        "print(\"Before function call:\")\n",
        "print(\"x =\", x)\n",
        "print(\"y =\", y)\n",
        "\n",
        "modify_arguments(x, y)\n",
        "\n",
        "print(\"\\nAfter function call:\")\n",
        "print(\"x =\", x)\n",
        "print(\"y =\", y)"
      ],
      "metadata": {
        "colab": {
          "base_uri": "https://localhost:8080/"
        },
        "id": "QAsCcAD_d09H",
        "outputId": "aa88fafd-48e1-41fd-bf82-353f0236d916"
      },
      "execution_count": 13,
      "outputs": [
        {
          "output_type": "stream",
          "name": "stdout",
          "text": [
            "Before function call:\n",
            "x = 50\n",
            "y = [10, 20, 30]\n",
            "Inside function before change:\n",
            "num = 50\n",
            "my_list = [10, 20, 30]\n",
            "Inside function after change:\n",
            "num = 60\n",
            "my_list = [10, 20, 30, 100]\n",
            "\n",
            "After function call:\n",
            "x = 50\n",
            "y = [10, 20, 30, 100]\n"
          ]
        }
      ]
    },
    {
      "cell_type": "code",
      "source": [
        "# 7.  Write a program that performs basic arithmetic operations on two user-input numbers.\n",
        "\n",
        "num1 = float(input(\"Enter the first number: \"))\n",
        "num2 = float(input(\"Enter the second number: \"))\n",
        "\n",
        "print(\" Arithmetic Operations:\")\n",
        "print(f\"{num1} + {num2} = {num1 + num2}\")\n",
        "print(f\"{num1} - {num2} = {num1 - num2}\")\n",
        "print(f\"{num1} * {num2} = {num1 * num2}\")\n",
        "\n",
        "# Handle division and modulus with zero check\n",
        "if num2 != 0:\n",
        "    print(f\"{num1} / {num2} = {num1 / num2}\")\n",
        "    print(f\"{num1} % {num2} = {num1 % num2}\")\n",
        "else:\n",
        "    print(\" Cannot divide or take modulus by zero.\")\n"
      ],
      "metadata": {
        "colab": {
          "base_uri": "https://localhost:8080/"
        },
        "id": "XCFPtQeXecyP",
        "outputId": "9ea2c89b-d901-40bb-9806-1c06e3de2ac0"
      },
      "execution_count": 14,
      "outputs": [
        {
          "output_type": "stream",
          "name": "stdout",
          "text": [
            "Enter the first number: 10\n",
            "Enter the second number: 20\n",
            " Arithmetic Operations:\n",
            "10.0 + 20.0 = 30.0\n",
            "10.0 - 20.0 = -10.0\n",
            "10.0 * 20.0 = 200.0\n",
            "10.0 / 20.0 = 0.5\n",
            "10.0 % 20.0 = 10.0\n"
          ]
        }
      ]
    },
    {
      "cell_type": "code",
      "source": [
        "# 8. Write a program to demonstrate the use of logical operators.\n",
        "\n",
        "age = int(input(\"Enter your age: \"))\n",
        "is_citizen = input(\"Are you a citizen? (yes/no): \").lower()\n",
        "\n",
        "print(\"\\n🔍 Logical Operator Results:\")\n",
        "\n",
        "# Using AND operator\n",
        "if age >= 18 and is_citizen == \"yes\":\n",
        "    print(\"You are eligible to vote.\")\n",
        "else:\n",
        "    print(\"You are NOT eligible to vote.\")\n",
        "\n",
        "# Using OR operator\n",
        "if age >= 18 or is_citizen == \"yes\":\n",
        "    print(\"You meet at least one requirement.\")\n",
        "else:\n",
        "    print(\"You meet none of the requirements.\")\n",
        "\n",
        "# Using NOT operator\n",
        "if not age < 18:\n",
        "    print(\"You are not underage.\")\n",
        "else:\n",
        "    print(\"You are underage.\")\n"
      ],
      "metadata": {
        "colab": {
          "base_uri": "https://localhost:8080/"
        },
        "id": "00TNqS1ifDsQ",
        "outputId": "b47fbec4-86cc-4e8d-e9e2-e207257cde19"
      },
      "execution_count": 15,
      "outputs": [
        {
          "output_type": "stream",
          "name": "stdout",
          "text": [
            "Enter your age: 25\n",
            "Are you a citizen? (yes/no): NO\n",
            "\n",
            "🔍 Logical Operator Results:\n",
            "You are NOT eligible to vote.\n",
            "You meet at least one requirement.\n",
            "You are not underage.\n"
          ]
        }
      ]
    },
    {
      "cell_type": "code",
      "source": [
        "# 9.  Write a Python program to convert user input from string to integer, float, and boolean types.\n",
        "\n",
        "user_input = input(\"Enter any value: \")\n",
        "\n",
        "# Convert to integer\n",
        "try:\n",
        "    int_value = int(user_input)\n",
        "    print(f\"Integer: {int_value}\")\n",
        "except ValueError:\n",
        "    print(\"Cannot convert to Integer.\")\n",
        "\n",
        "# Convert to float\n",
        "try:\n",
        "    float_value = float(user_input)\n",
        "    print(f\"Float: {float_value}\")\n",
        "except ValueError:\n",
        "    print(\"Cannot convert to Float.\")\n",
        "\n",
        "# Convert to boolean\n",
        "bool_value = bool(user_input)\n",
        "print(f\"Boolean: {bool_value}\")\n"
      ],
      "metadata": {
        "colab": {
          "base_uri": "https://localhost:8080/"
        },
        "id": "nQQu8Qjef_J-",
        "outputId": "24489465-614e-4970-eef5-0d39abe43390"
      },
      "execution_count": 17,
      "outputs": [
        {
          "output_type": "stream",
          "name": "stdout",
          "text": [
            "Enter any value: 5\n",
            "Integer: 5\n",
            "Float: 5.0\n",
            "Boolean: True\n"
          ]
        }
      ]
    },
    {
      "cell_type": "code",
      "source": [
        "# 10.  Write code to demonstrate type casting with list elements.\n",
        "\n",
        "str_list = [\"10\", \"20\", \"30\", \"40\"]\n",
        "\n",
        "print(\"Original list (strings):\", str_list)\n",
        "\n",
        "# Convert each element to an integer\n",
        "int_list = [int(x) for x in str_list]\n",
        "print(\"Converted to integers:\", int_list)\n",
        "\n",
        "# Convert each element to a float\n",
        "float_list = [float(x) for x in str_list]\n",
        "print(\"Converted to floats:\", float_list)\n"
      ],
      "metadata": {
        "colab": {
          "base_uri": "https://localhost:8080/"
        },
        "id": "-IGmtmGrgfQO",
        "outputId": "49a77720-8b41-465b-d675-798072e8c4ed"
      },
      "execution_count": 19,
      "outputs": [
        {
          "output_type": "stream",
          "name": "stdout",
          "text": [
            "Original list (strings): ['10', '20', '30', '40']\n",
            "Converted to integers: [10, 20, 30, 40]\n",
            "Converted to floats: [10.0, 20.0, 30.0, 40.0]\n"
          ]
        }
      ]
    },
    {
      "cell_type": "code",
      "source": [
        " # 11.  Write a program that checks if a number is positive, negative, or zero.\n",
        "\n",
        "num = float(input(\"Enter a number: \"))\n",
        "\n",
        "if num > 0:\n",
        "    print(\"The number is positive.\")\n",
        "elif num < 0:\n",
        "    print(\"The number is negative.\")\n",
        "else:\n",
        "    print(\"The number is zero.\")\n"
      ],
      "metadata": {
        "colab": {
          "base_uri": "https://localhost:8080/"
        },
        "id": "sTfhKln-jGB7",
        "outputId": "5eecf264-11ff-452b-c50e-8126f9510d25"
      },
      "execution_count": 20,
      "outputs": [
        {
          "output_type": "stream",
          "name": "stdout",
          "text": [
            "Enter a number: 0\n",
            "The number is zero.\n"
          ]
        }
      ]
    },
    {
      "cell_type": "code",
      "source": [
        "# 12. Write a for loop to print numbers from 1 to 10.\n",
        "\n",
        "for i in range(1, 11):\n",
        "    print(i,end=\" \")\n"
      ],
      "metadata": {
        "colab": {
          "base_uri": "https://localhost:8080/"
        },
        "id": "UNXmzAsNjWVN",
        "outputId": "7319587d-543c-4525-9dd4-b8d928bebeac"
      },
      "execution_count": 23,
      "outputs": [
        {
          "output_type": "stream",
          "name": "stdout",
          "text": [
            "1 2 3 4 5 6 7 8 9 10 "
          ]
        }
      ]
    },
    {
      "cell_type": "code",
      "source": [
        "# 13. Write a Python program to find the sum of all even numbers between 1 and 50.\n",
        "\n",
        "even_sum = 0\n",
        "\n",
        "for num in range(1, 51):\n",
        "    if num % 2 == 0:\n",
        "        even_sum += num\n",
        "\n",
        "print(\" Sum of even numbers from 1 to 50 is:\", even_sum)\n"
      ],
      "metadata": {
        "colab": {
          "base_uri": "https://localhost:8080/"
        },
        "id": "l10YQUqJjo9O",
        "outputId": "346b73f1-5313-466d-ec40-025f7d8a2ced"
      },
      "execution_count": 24,
      "outputs": [
        {
          "output_type": "stream",
          "name": "stdout",
          "text": [
            " Sum of even numbers from 1 to 50 is: 650\n"
          ]
        }
      ]
    },
    {
      "cell_type": "code",
      "source": [
        "# 14. Write a program to reverse a string using a while loop.\n",
        "\n",
        "text = input(\"Enter a string: \")\n",
        "\n",
        "reversed_text = \"\"\n",
        "\n",
        "index = len(text) - 1\n",
        "\n",
        "while index >= 0:\n",
        "    reversed_text += text[index]\n",
        "    index -= 1\n",
        "\n",
        "print(\"Reversed string:\", reversed_text)\n"
      ],
      "metadata": {
        "colab": {
          "base_uri": "https://localhost:8080/"
        },
        "id": "Ekg8qg2Zj6Jn",
        "outputId": "f9400da3-b306-439a-c317-68725220a82f"
      },
      "execution_count": 26,
      "outputs": [
        {
          "output_type": "stream",
          "name": "stdout",
          "text": [
            "Enter a string: Ayush\n",
            "Reversed string: hsuyA\n"
          ]
        }
      ]
    },
    {
      "cell_type": "code",
      "source": [
        "# 15.  Write a Python program to calculate the factorial of a number provided by the user using a while loop.\n",
        "\n",
        "num = int(input(\"Enter a number to find its factorial: \"))\n",
        "\n",
        "factorial = 1\n",
        "i = 1\n",
        "\n",
        "while i <= num:\n",
        "    factorial *= i\n",
        "    i += 1\n",
        "\n",
        "print(f\"Factorial of {num} is: {factorial}\")\n"
      ],
      "metadata": {
        "colab": {
          "base_uri": "https://localhost:8080/"
        },
        "id": "JVOfUTcUkS14",
        "outputId": "77814ed4-8831-4c34-a51d-82d644170a72"
      },
      "execution_count": 27,
      "outputs": [
        {
          "output_type": "stream",
          "name": "stdout",
          "text": [
            "Enter a number to find its factorial: 5\n",
            "Factorial of 5 is: 120\n"
          ]
        }
      ]
    }
  ]
}